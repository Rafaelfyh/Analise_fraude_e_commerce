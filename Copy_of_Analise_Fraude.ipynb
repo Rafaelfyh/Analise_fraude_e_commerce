{
  "nbformat": 4,
  "nbformat_minor": 0,
  "metadata": {
    "colab": {
      "private_outputs": true,
      "provenance": []
    },
    "kernelspec": {
      "name": "python3",
      "display_name": "Python 3"
    },
    "language_info": {
      "name": "python"
    }
  },
  "cells": [
    {
      "cell_type": "code",
      "execution_count": null,
      "metadata": {
        "id": "6_cOlMvEbeN0"
      },
      "outputs": [],
      "source": [
        "from google.colab import drive\n",
        "drive.mount('/content/drive')\n"
      ]
    },
    {
      "cell_type": "markdown",
      "source": [
        "# 🧠 Entendimento do Negócio"
      ],
      "metadata": {
        "id": "3nCACJ4kbiMp"
      }
    },
    {
      "cell_type": "markdown",
      "source": [
        "* Problema: identificar fraudes com base em scores e comportamento de compra/documentos.\n",
        "\n",
        "* Variável-alvo: fraude"
      ],
      "metadata": {
        "id": "T5YA9_Zirttb"
      }
    },
    {
      "cell_type": "code",
      "source": [
        "import pandas as pd\n",
        "\n",
        "csv_url = (\n",
        "    'https://docs.google.com/spreadsheets/d/'\n",
        "    '1HqSaTwX5edc-zpO8BQHvMIbndjZFLslxoHLcuUwO5pY'\n",
        "    '/export?format=csv&gid=2136114581'\n",
        ")\n",
        "df = pd.read_csv(csv_url)\n",
        "df.head()\n"
      ],
      "metadata": {
        "id": "1wVHxs3klIiv"
      },
      "execution_count": null,
      "outputs": []
    },
    {
      "cell_type": "markdown",
      "source": [
        "# 🔍 Análise Exploratória (EDA)"
      ],
      "metadata": {
        "id": "yMxeRCpMlnmd"
      }
    },
    {
      "cell_type": "code",
      "source": [
        "\n",
        "# 1) Estatísticas descritivas básicas\n",
        "print(df.describe())"
      ],
      "metadata": {
        "id": "QI5P1SyEk51C"
      },
      "execution_count": null,
      "outputs": []
    },
    {
      "cell_type": "markdown",
      "source": [
        "* Verificação de valores ausentes (missing values)"
      ],
      "metadata": {
        "id": "CR2q0tR8l2ir"
      }
    },
    {
      "cell_type": "code",
      "source": [
        "import numpy as np\n",
        "\n",
        "# Função para verificar valores ausentes\n",
        "def check_missing_values(df):\n",
        "    return df.isnull().sum()\n",
        "\n",
        "# Verificando valores ausentes\n",
        "missing_values = check_missing_values(df)\n",
        "print(\"Valores ausentes:\\n\", missing_values)"
      ],
      "metadata": {
        "id": "IiBgVPMtl2OR"
      },
      "execution_count": null,
      "outputs": []
    },
    {
      "cell_type": "code",
      "source": [
        "# Imputação de valores ausentes\n",
        "from sklearn.impute import SimpleImputer\n",
        "\n",
        "# Para colunas numéricas\n",
        "numerical_cols_with_missing = ['score_2', 'score_3', 'score_4', 'score_6', 'score_9', 'score_10']\n",
        "imputer_numeric = SimpleImputer(strategy='median')  # Usando a mediana como estratégia de imputação\n",
        "\n",
        "df[numerical_cols_with_missing] = imputer_numeric.fit_transform(df[numerical_cols_with_missing])\n",
        "\n",
        "# Para colunas categóricas\n",
        "categorical_cols_with_missing = ['pais', 'entrega_doc_2']\n",
        "imputer_categorical = SimpleImputer(strategy='most_frequent')  # Usando a moda (valor mais frequente)\n",
        "\n",
        "df[categorical_cols_with_missing] = imputer_categorical.fit_transform(df[categorical_cols_with_missing])\n",
        "\n",
        "# Verificando os valores ausentes após imputação\n",
        "missing_values_after = df.isnull().sum()\n",
        "print(\"\\nValores ausentes após imputação:\\n\", missing_values_after)\n"
      ],
      "metadata": {
        "id": "X9kvEoLmlewx"
      },
      "execution_count": null,
      "outputs": []
    },
    {
      "cell_type": "markdown",
      "source": [
        "* Imputação numérica: Utilizando a mediana para preencher os valores ausentes, pois é mais robusta contra outliers.\n",
        "\n",
        "* Imputação categórica: Usando o valor mais frequente (modo) para preencher os valores ausentes em colunas categóricas."
      ],
      "metadata": {
        "id": "Sp8ZkMELmjPF"
      }
    },
    {
      "cell_type": "markdown",
      "source": [
        "* Analise Outliers\n",
        "\n"
      ],
      "metadata": {
        "id": "Vme7SySMndBR"
      }
    },
    {
      "cell_type": "code",
      "source": [
        "from scipy.stats import mstats\n",
        "\n",
        "# Lista das colunas numéricas a serem analisadas\n",
        "numerical_cols = ['score_2', 'score_3', 'score_4', 'score_6', 'score_9', 'score_10']\n",
        "\n",
        "# Aplicando winsorização nas colunas numéricas\n",
        "for col in numerical_cols:\n",
        "    df[col] = mstats.winsorize(df[col], limits=[0.05, 0.05])  # Winsoriza 5% dos valores em cada extremidade\n",
        "\n",
        "# Verificando se os valores extremos foram ajustados\n",
        "print(\"\\nEstatísticas após Winsorização:\")\n",
        "print(df[numerical_cols].describe())\n"
      ],
      "metadata": {
        "id": "iwq6pvitmeYF"
      },
      "execution_count": null,
      "outputs": []
    },
    {
      "cell_type": "markdown",
      "source": [
        "* Winsorização: Os valores extremos (5% dos valores mais baixos e mais altos) são ajustados para os limites dentro desse intervalo. Isso ajuda a evitar que outliers distorçam o modelo."
      ],
      "metadata": {
        "id": "p53uHpBsnD7k"
      }
    },
    {
      "cell_type": "markdown",
      "source": [
        "* Resultados após Winsorização:\n",
        "* As variáveis como score_2, score_3, score_6, score_9 e score_10 apresentaram mudanças significativas nos valores máximos e na dispersão, alinhando-se melhor aos intervalos definidos.\n",
        "\n",
        "* O valor máximo de score_6 foi ajustado de 145274 para 162, o que é uma evidência de que os outliers mais extremos foram tratadas.\n",
        "\n",
        "* A distribuição de outras variáveis, como score_2, também mostra uma compressão dos valores, o que indica que os outliers foram reduzidos."
      ],
      "metadata": {
        "id": "f_bL96-hnTvL"
      }
    },
    {
      "cell_type": "markdown",
      "source": [
        "#_______________________________________________________#"
      ],
      "metadata": {
        "id": "q6H1BLKuoK2h"
      }
    },
    {
      "cell_type": "markdown",
      "source": [
        "# 📊 Análise Univariada"
      ],
      "metadata": {
        "id": "8KxaXzy2tQBc"
      }
    },
    {
      "cell_type": "code",
      "source": [
        "# Estatísticas descritivas\n",
        "variaveis_univariadas = [\n",
        "    'score_3', 'valor_compra', 'score_fraude_modelo', 'score_10', 'score_6', 'score_9', 'entrega_doc_1'\n",
        "]\n",
        "\n",
        "# Exibe as estatísticas descritivas para as variáveis selecionadas\n",
        "print(df[variaveis_univariadas].describe())\n",
        "\n",
        "\n"
      ],
      "metadata": {
        "id": "JWzqQjV9tlLj"
      },
      "execution_count": null,
      "outputs": []
    },
    {
      "cell_type": "code",
      "source": [
        "import matplotlib.pyplot as plt\n",
        "import seaborn as sns\n",
        "\n",
        "# Gráficos: Histograma + KDE\n",
        "for col in variaveis_univariadas:\n",
        "    plt.figure(figsize=(16, 6))\n",
        "\n",
        "    # Histograma e KDE\n",
        "    plt.subplot(1, 2, 1)\n",
        "    sns.histplot(df[col], kde=True, color='skyblue')\n",
        "    plt.title(f'Distribuição de {col}')\n",
        "\n",
        "    plt.tight_layout()\n",
        "    plt.show()\n"
      ],
      "metadata": {
        "id": "fmmXijHPuRy-"
      },
      "execution_count": null,
      "outputs": []
    },
    {
      "cell_type": "code",
      "source": [
        "import matplotlib.pyplot as plt\n",
        "import seaborn as sns\n",
        "\n",
        "# Gráficos: Histograma + KDE\n",
        "for col in variaveis_univariadas:\n",
        "    plt.figure(figsize=(16, 6))\n",
        "\n",
        "    # Histograma e KDE\n",
        "    plt.subplot(1, 2, 1)\n",
        "    sns.histplot(df[col], kde=True, color='skyblue')\n",
        "    plt.title(f'Distribuição de {col}')\n",
        "\n",
        "    plt.tight_layout()\n",
        "    plt.show()\n",
        "\n"
      ],
      "metadata": {
        "id": "TIuvshgJuCMy"
      },
      "execution_count": null,
      "outputs": []
    },
    {
      "cell_type": "markdown",
      "source": [
        "* Resultados - estatísticas descritivas (média, desvio padrão, mínimo, 25%, 50%, 75%, máximo) das variáveis-chave.\n",
        "\n",
        "* Histograma e KDE: O qual mostra a distribuição das variáveis, tanto com um histograma quanto com a estimativa de densidade (KDE), para entender a forma e a dispersão da variável.\n",
        "\n",
        "* Boxplot: Exibe a dispersão e possíveis outliers nas variáveis, facilitando a visualização de valores extremos.\n"
      ],
      "metadata": {
        "id": "v6zouYv1tqTh"
      }
    },
    {
      "cell_type": "markdown",
      "source": [
        " # 🔗 Análise Bivariada\n",
        "\n",
        "\n"
      ],
      "metadata": {
        "id": "8wWaXAnuoPPw"
      }
    },
    {
      "cell_type": "code",
      "source": [
        "#  Análise Bivariada (Correlação com a variável alvo fraude)\n",
        "# Seleciona apenas colunas numéricas\n",
        "numeric_cols = df.select_dtypes(include=np.number).columns.tolist()\n",
        "\n",
        "# Calcula correlação com a variável fraude\n",
        "correlations = df[numeric_cols].corr()['fraude'].sort_values(ascending=False)\n",
        "\n",
        "# Exibe as correlações (positivas e negativas mais fortes)\n",
        "print(correlations)\n"
      ],
      "metadata": {
        "id": "oQrVCRcsm8iS"
      },
      "execution_count": null,
      "outputs": []
    },
    {
      "cell_type": "markdown",
      "source": [
        "# O modelo score_fraude_modelo está alinhado com a variável alvo, como esperado.\n",
        "\n",
        "Há indícios de que:\n",
        "\n",
        "Compras altas têm mais chance de fraude.\n",
        "\n",
        "Não entrega de documentos está fortemente associada à fraude.\n",
        "\n",
        "Alguns scores operacionais (score_6, score_10, score_9) têm correlação negativa interessante com a fraude — podem indicar comportamento legítimo."
      ],
      "metadata": {
        "id": "QykrdqAxo6n6"
      }
    },
    {
      "cell_type": "markdown",
      "source": [
        "* Médias dos scores por classe de fraude"
      ],
      "metadata": {
        "id": "o1qB_ULLob6z"
      }
    },
    {
      "cell_type": "code",
      "source": [
        "# Média das variáveis numéricas por grupo de fraude\n",
        "means_by_class = df.groupby('fraude')[numeric_cols].mean().T\n",
        "means_by_class.columns = ['Não Fraude', 'Fraude']\n",
        "means_by_class['Diferença'] = means_by_class['Fraude'] - means_by_class['Não Fraude']\n",
        "\n",
        "print(means_by_class.sort_values(by='Diferença', ascending=False))\n"
      ],
      "metadata": {
        "id": "wVCXlUZyoXVJ"
      },
      "execution_count": null,
      "outputs": []
    },
    {
      "cell_type": "markdown",
      "source": [
        "# Estratégia\n",
        "\n",
        "* A não entrega do documento (entrega_doc_1) é um dos melhores indicadores de fraude até agora.\n",
        "\n",
        "* Scores como score_6, score_10, score_9 têm grande poder discriminativo — podem ser valiosos em modelos.\n",
        "\n",
        "* A diferença de valor_compra também é substancial — talvez sirva como feature derivada (e.g. log(valor), categorias de valor).\n",
        "\n",
        "* Modelo atual (score_fraude_modelo) tem desempenho razoável, mas talvez seja possível superá-lo."
      ],
      "metadata": {
        "id": "I-ixogRppOhw"
      }
    },
    {
      "cell_type": "code",
      "source": [
        "import seaborn as sns\n",
        "import matplotlib.pyplot as plt\n",
        "\n",
        "# Lista das variáveis mais relevantes\n",
        "variaveis_chave = ['score_3', 'valor_compra', 'score_fraude_modelo',\n",
        "                   'entrega_doc_1', 'score_6', 'score_10', 'score_9']\n",
        "\n",
        "# Estilo\n",
        "sns.set(style=\"whitegrid\")\n",
        "\n",
        "# Criar boxplots\n",
        "for var in variaveis_chave:\n",
        "    plt.figure(figsize=(8, 5))\n",
        "    sns.boxplot(x='fraude', y=var, data=df, palette=\"Set2\")\n",
        "    plt.title(f'Distribuição de {var} por Fraude')\n",
        "    plt.xlabel('Fraude (0 = Não, 1 = Sim)')\n",
        "    plt.ylabel(var)\n",
        "    plt.tight_layout()\n",
        "    plt.show()\n"
      ],
      "metadata": {
        "id": "z0_YlTlSoeUa"
      },
      "execution_count": null,
      "outputs": []
    },
    {
      "cell_type": "markdown",
      "source": [
        "* Teve uma diferenças significativa entre fraude e não fraude: A maioria das variáveis mostra diferenças significativas entre as classes, o que sugere que elas podem ser potencialmente úteis para prever fraudes.\n",
        "\n",
        "* As distribuições não normais e variâncias não homogêneas: Como as distribuições não seguem uma normalidade e as variâncias não são homogêneas, podemos usar alguns modelos não paramétricos (como árvores de decisão, Random Forests ou XGBoost) ou técnicas que não dependem de pressupostos de normalidade.\n",
        "\n",
        "* Importância de variáveis como score_fraude_modelo e valor_compra: Algumas variáveis, como score_fraude_modelo e valor_compra, apresentam grandes diferenças entre fraude e não fraude, o que as torna importantes para modelagem preditiva.\n",
        "\n",
        "* Breve resumo:\n",
        "Significância: Todas as variáveis mostraram diferenças significativas entre fraude e não fraude.\n",
        "\n"
      ],
      "metadata": {
        "id": "e7uHcL-vupvj"
      }
    },
    {
      "cell_type": "markdown",
      "source": [
        "# 📈 Testes de Hipóteses"
      ],
      "metadata": {
        "id": "Yp991D_bxcbP"
      }
    },
    {
      "cell_type": "code",
      "source": [
        "from scipy.stats import mannwhitneyu\n",
        "\n",
        "# Lista de variáveis para os testes\n",
        "variaveis_para_teste = [\n",
        "    'score_3', 'valor_compra', 'score_fraude_modelo', 'score_10', 'score_6', 'score_9', 'entrega_doc_1'\n",
        "]\n",
        "\n",
        "# Resultados dos testes de hipóteses\n",
        "testes_hipotese = []\n",
        "\n",
        "# Executando o teste de Mann-Whitney para cada variável\n",
        "for var in variaveis_para_teste:\n",
        "    # Separando as classes\n",
        "    fraude = df[df['fraude'] == 1][var]\n",
        "    nao_fraude = df[df['fraude'] == 0][var]\n",
        "\n",
        "    # Realizando o teste de Mann-Whitney\n",
        "    stat, p_valor = mannwhitneyu(fraude, nao_fraude)\n",
        "\n",
        "    # Armazenando os resultados\n",
        "    testes_hipotese.append({\n",
        "        'variavel': var,\n",
        "        'p_normal_0': nao_fraude.kurtosis(),  # Teste de normalidade para classe 0\n",
        "        'p_normal_1': fraude.kurtosis(),  # Teste de normalidade para classe 1\n",
        "        'p_levene': stat,  # estatística de Mann-Whitney\n",
        "        'teste': 'Mann-Whitney',\n",
        "        'p_valor_teste': p_valor\n",
        "    })\n",
        "\n",
        "# Exibindo os resultados\n",
        "resultados_hipotese = pd.DataFrame(testes_hipotese)\n",
        "print(resultados_hipotese)\n"
      ],
      "metadata": {
        "id": "94-My68zqRaj"
      },
      "execution_count": null,
      "outputs": []
    },
    {
      "cell_type": "markdown",
      "source": [
        "* Importante Observações:\n",
        "\n",
        "- Todos os p-valores estão abaixo de 0.05 ⇒ rejeitamos H₀, ou seja, há diferenças estatisticamente significativas entre os grupos.\n",
        "\n",
        "- As kurtoses reforçam que os dados têm distribuições diferentes (especialmente valor_compra e score_6), justificando o uso do teste não paramétrico."
      ],
      "metadata": {
        "id": "mb6HJLmA2KrQ"
      }
    },
    {
      "cell_type": "markdown",
      "source": [
        "# ✅ O que isso diz para o projeto:\n",
        "\n",
        "- As variáveis testadas são bons candidatos para features de modelagem, pois mostram comportamentos estatisticamente diferentes entre classes.\n",
        "\n"
      ],
      "metadata": {
        "id": "gm4MCTnj2lCh"
      }
    },
    {
      "cell_type": "markdown",
      "source": [
        "* Teste de hipótese\n",
        "1. Comparou as distribuições das variáveis entre as classes\n",
        "Para cada variável, o teste avaliou:\n",
        "\n",
        "“A distribuição dessa variável é significativamente diferente entre os grupos com e sem fraude?”\n",
        "\n",
        "2. Evidênciou estatística para apoiar as features\n",
        "\n",
        "* O resultado mais importante é o p-valor:\n",
        "\n",
        "- Sempre se o p_valor_teste < 0.05, significa que há evidência estatística de que a variável tem comportamento diferente entre as classes.\n",
        "\n",
        "- Isso indica que a variável pode ser útil para detectar fraude.\n",
        "\n"
      ],
      "metadata": {
        "id": "z7hEgR2m3ACu"
      }
    },
    {
      "cell_type": "markdown",
      "source": [
        "* O teste de hipótese mostrou que todas as variáveis analisadas têm diferenças estatisticamente significativas entre as classes fraude e não fraude (p-valores muito baixos). Isso indica que essas variáveis são boas candidatas para alimentar o modelo, pois ajudam a distinguir entre comportamentos fraudulentos"
      ],
      "metadata": {
        "id": "0hGDv5G64CB3"
      }
    },
    {
      "cell_type": "markdown",
      "source": [
        "#___________________________________#"
      ],
      "metadata": {
        "id": "7HLLznn05GzX"
      }
    },
    {
      "cell_type": "code",
      "source": [
        "from sklearn.model_selection import train_test_split\n",
        "from sklearn.metrics import classification_report, roc_auc_score\n",
        "from sklearn.linear_model import LogisticRegression\n",
        "from sklearn.ensemble import RandomForestClassifier\n",
        "from xgboost import XGBClassifier\n",
        "import pandas as pd\n",
        "\n",
        "# 1. Selecionar variáveis e target\n",
        "X = df[['score_3', 'valor_compra', 'score_fraude_modelo', 'score_10', 'score_6', 'score_9', 'entrega_doc_1']]\n",
        "y = df['fraude']\n",
        "\n",
        "# 2. Divisão treino/teste\n",
        "X_train, X_test, y_train, y_test = train_test_split(X, y, test_size=0.3, stratify=y, random_state=42)\n",
        "\n",
        "# 3. Modelos\n",
        "modelos = {\n",
        "    'Regressão Logística': LogisticRegression(max_iter=1000),\n",
        "    'Random Forest': RandomForestClassifier(n_estimators=100, random_state=42),\n",
        "    'XGBoost': XGBClassifier(use_label_encoder=False, eval_metric='logloss', random_state=42)\n",
        "}\n",
        "\n",
        "# 4. Treinar, prever e comparar\n",
        "resultados = []\n",
        "\n",
        "for nome, modelo in modelos.items():\n",
        "    modelo.fit(X_train, y_train)\n",
        "    y_pred = modelo.predict(X_test)\n",
        "    y_proba = modelo.predict_proba(X_test)[:,1]\n",
        "\n",
        "    metrics = classification_report(y_test, y_pred, output_dict=True)\n",
        "    auc = roc_auc_score(y_test, y_proba)\n",
        "\n",
        "    resultados.append({\n",
        "        'Modelo': nome,\n",
        "        'Acurácia': metrics['accuracy'],\n",
        "        'Precisão (fraude)': metrics['1']['precision'],\n",
        "        'Recall (fraude)': metrics['1']['recall'],\n",
        "        'F1-Score (fraude)': metrics['1']['f1-score'],\n",
        "        'AUC-ROC': auc\n",
        "    })\n",
        "\n",
        "# Exibir resultados\n",
        "df_resultados = pd.DataFrame(resultados)\n",
        "print(df_resultados.sort_values(by='AUC-ROC', ascending=False))\n"
      ],
      "metadata": {
        "id": "BkLCq37z11bv"
      },
      "execution_count": null,
      "outputs": []
    },
    {
      "cell_type": "markdown",
      "source": [
        "* Resultados dos modelos\n",
        "\n",
        "- ✅ Melhor Modelo: Random Forest\n",
        "Acurácia: 95,17%\n",
        "\n",
        "F1-Score para fraude: 0.19 (melhor equilíbrio entre precisão e recall)\n",
        "\n",
        "AUC-ROC: 0.81 (classificação geral boa)\n",
        "\n",
        "- 🔍 Resultados mostram:\n",
        "Todos os modelos acertam bem o “não fraude” (explica a alta acurácia)\n",
        "\n",
        "- Random Forest teve o melhor desempenho geral para detectar fraude, com melhor recall, precisão e F1.\n",
        "\n",
        "- Logística nao teve um bom recall (0.005) – ou seja, quase não identificou fraudes.\n",
        "\n",
        "- XGBoost foi muito bom também, só levemente atrás do Random Forest."
      ],
      "metadata": {
        "id": "BAu-Kthb5QFb"
      }
    },
    {
      "cell_type": "code",
      "source": [
        "from sklearn.metrics import confusion_matrix, ConfusionMatrixDisplay\n",
        "import matplotlib.pyplot as plt\n",
        "\n",
        "# Treinando os modelos\n",
        "modelo_log = LogisticRegression(random_state=42)\n",
        "modelo_log.fit(X_train, y_train)\n",
        "\n",
        "modelo_rf = RandomForestClassifier(random_state=42)\n",
        "modelo_rf.fit(X_train, y_train)\n",
        "\n",
        "modelo_xgb = XGBClassifier(random_state=42)\n",
        "modelo_xgb.fit(X_train, y_train)\n",
        "\n",
        "# Lista de modelos e seus nomes\n",
        "modelos = [\n",
        "    ('Regressão Logística', modelo_log),\n",
        "    ('Random Forest', modelo_rf),\n",
        "    ('XGBoost', modelo_xgb)\n",
        "]\n",
        "\n",
        "# Plot das matrizes de confusão\n",
        "plt.figure(figsize=(18, 5))\n",
        "\n",
        "for i, (nome, modelo) in enumerate(modelos):\n",
        "    # Previsões\n",
        "    y_pred = modelo.predict(X_test)\n",
        "\n",
        "    # Matriz de confusão\n",
        "    cm = confusion_matrix(y_test, y_pred)\n",
        "\n",
        "    # Plot\n",
        "    plt.subplot(1, 3, i+1)\n",
        "    disp = ConfusionMatrixDisplay(confusion_matrix=cm, display_labels=modelo.classes_)\n",
        "    disp.plot(ax=plt.gca(), values_format='d')\n",
        "    plt.title(nome)\n",
        "\n",
        "plt.tight_layout()\n",
        "plt.show()\n",
        "\n"
      ],
      "metadata": {
        "id": "JgPMBl4U4r4T"
      },
      "execution_count": null,
      "outputs": []
    },
    {
      "cell_type": "markdown",
      "source": [
        "* Esses sao os resultados de falso negativo (fraude náo detectada) Como apresentado o Xgboost teve menor numero de fraudes"
      ],
      "metadata": {
        "id": "AVhHlRZ-Z0x1"
      }
    },
    {
      "cell_type": "markdown",
      "source": [
        "# Teste de hiperparamentros"
      ],
      "metadata": {
        "id": "CijJpoP7aUgK"
      }
    },
    {
      "cell_type": "code",
      "source": [
        "# Balanceamento da base com SMOTE\n",
        "from imblearn.over_sampling import SMOTE\n",
        "\n",
        "# Aplicando o SMOTE\n",
        "smote = SMOTE(random_state=42)\n",
        "X_train_bal, y_train_bal = smote.fit_resample(X_train, y_train)\n",
        "\n",
        "# Verificando o balanceamento\n",
        "print(\"Distribuição após SMOTE:\")\n",
        "print(y_train_bal.value_counts())\n"
      ],
      "metadata": {
        "id": "aFVXyqUT_B1X"
      },
      "execution_count": null,
      "outputs": []
    },
    {
      "cell_type": "code",
      "source": [
        "# Re-treinar Random Forest e XGBoost com dados balanceados\n",
        "\n",
        "from sklearn.ensemble import RandomForestClassifier\n",
        "from xgboost import XGBClassifier\n",
        "\n",
        "# Reinstanciando e treinando os modelos\n",
        "modelo_rf_bal = RandomForestClassifier(random_state=42)\n",
        "modelo_rf_bal.fit(X_train_bal, y_train_bal)\n",
        "\n",
        "modelo_xgb_bal = XGBClassifier(random_state=42, use_label_encoder=False, eval_metric='logloss')\n",
        "modelo_xgb_bal.fit(X_train_bal, y_train_bal)\n"
      ],
      "metadata": {
        "id": "SMDH4T2uaaji"
      },
      "execution_count": null,
      "outputs": []
    },
    {
      "cell_type": "code",
      "source": [
        "# Avaliar desempenho dos modelos balanceados\n",
        "from sklearn.metrics import classification_report, roc_auc_score\n",
        "\n",
        "modelos_balanceados = {\n",
        "    'Random Forest (SMOTE)': modelo_rf_bal,\n",
        "    'XGBoost (SMOTE)': modelo_xgb_bal\n",
        "}\n",
        "\n",
        "for nome, modelo in modelos_balanceados.items():\n",
        "    y_pred = modelo.predict(X_test)\n",
        "    print(f\"\\nModelo: {nome}\")\n",
        "    print(classification_report(y_test, y_pred, digits=4))\n",
        "\n",
        "    # AUC\n",
        "    if hasattr(modelo, \"predict_proba\"):\n",
        "        y_prob = modelo.predict_proba(X_test)[:, 1]\n",
        "    else:\n",
        "        y_prob = modelo.decision_function(X_test)\n",
        "    auc = roc_auc_score(y_test, y_prob)\n",
        "    print(\"AUC-ROC:\", round(auc, 4))\n"
      ],
      "metadata": {
        "id": "e6T9ycJmbqFE"
      },
      "execution_count": null,
      "outputs": []
    },
    {
      "cell_type": "markdown",
      "source": [],
      "metadata": {
        "id": "Nvd-uzx9cazi"
      }
    },
    {
      "cell_type": "code",
      "source": [
        "from imblearn.over_sampling import SMOTE\n",
        "from sklearn.model_selection import train_test_split\n",
        "\n",
        "# Separando treino e teste antes de aplicar SMOTE\n",
        "X_train, X_test, y_train, y_test = train_test_split(X, y, test_size=0.3, stratify=y, random_state=42)\n",
        "\n",
        "# Aplicando SMOTE no conjunto de treino\n",
        "smote = SMOTE(random_state=42)\n",
        "X_train_res, y_train_res = smote.fit_resample(X_train, y_train)\n"
      ],
      "metadata": {
        "id": "NPJiUJiLcr6d"
      },
      "execution_count": null,
      "outputs": []
    },
    {
      "cell_type": "code",
      "source": [
        "from sklearn.ensemble import RandomForestClassifier\n",
        "from xgboost import XGBClassifier\n",
        "\n",
        "# Treinando modelos com dados balanceados (SMOTE)\n",
        "modelo_rf_smote = RandomForestClassifier(random_state=42)\n",
        "modelo_rf_smote.fit(X_train_res, y_train_res)\n",
        "\n",
        "modelo_xgb_smote = XGBClassifier(random_state=42)\n",
        "modelo_xgb_smote.fit(X_train_res, y_train_res)\n",
        "\n"
      ],
      "metadata": {
        "id": "0xsewWuPcbPf"
      },
      "execution_count": null,
      "outputs": []
    },
    {
      "cell_type": "code",
      "source": [
        "from sklearn.ensemble import RandomForestClassifier\n",
        "from xgboost import XGBClassifier\n",
        "\n",
        "# Random Forest com SMOTE\n",
        "modelo_rf_smote = RandomForestClassifier(random_state=42)\n",
        "modelo_rf_smote.fit(X_train_res, y_train_res)\n",
        "\n",
        "# XGBoost com SMOTE\n",
        "modelo_xgb_smote = XGBClassifier(use_label_encoder=False, eval_metric='logloss', random_state=42)\n",
        "modelo_xgb_smote.fit(X_train_res, y_train_res)\n"
      ],
      "metadata": {
        "id": "z_tirnExckRq"
      },
      "execution_count": null,
      "outputs": []
    },
    {
      "cell_type": "code",
      "source": [
        "from sklearn.metrics import classification_report, roc_auc_score, confusion_matrix, ConfusionMatrixDisplay\n",
        "import matplotlib.pyplot as plt\n",
        "\n",
        "# Lista de modelos treinados com SMOTE\n",
        "modelos_smote = [\n",
        "    ('Random Forest (SMOTE)', modelo_rf_smote),\n",
        "    ('XGBoost (SMOTE)', modelo_xgb_smote)\n",
        "]\n",
        "\n",
        "# Avaliação dos modelos\n",
        "for nome, modelo in modelos_smote:\n",
        "    print(f\"\\nModelo: {nome}\")\n",
        "\n",
        "    # Previsões\n",
        "    y_pred = modelo.predict(X_test)\n",
        "    y_prob = modelo.predict_proba(X_test)[:, 1]  # Probabilidades para AUC-ROC\n",
        "\n",
        "    # Relatório de classificação\n",
        "    print(classification_report(y_test, y_pred, digits=4))\n",
        "\n",
        "    # AUC-ROC\n",
        "    auc = roc_auc_score(y_test, y_prob)\n",
        "    print(f\"AUC-ROC: {auc:.4f}\")\n",
        "\n",
        "    # Matriz de confusão\n",
        "    cm = confusion_matrix(y_test, y_pred)\n",
        "    disp = ConfusionMatrixDisplay(confusion_matrix=cm, display_labels=modelo.classes_)\n",
        "    disp.plot(cmap=plt.cm.Blues)\n",
        "    plt.title(nome)\n",
        "    plt.show()\n"
      ],
      "metadata": {
        "id": "CxxNhtPhdH4K"
      },
      "execution_count": null,
      "outputs": []
    },
    {
      "cell_type": "markdown",
      "source": [
        " * XGBoost teve ligeiramente melhor recall de fraudes, mas menor precisão.\n",
        "\n",
        "Random Forest teve melhor equilíbrio geral (AUC, F1 e acurácia).\n",
        "\n",
        "A diferença de acertos totais é pequena.\n",
        "\n",
        "* 💡 Se o foco é detectar mais fraudes mesmo errando um pouco mais (alto recall), o XGBoost pode ser preferido.\n",
        "Se o foco é ter uma performance mais equilibrada, o Random Forest se destaca.\n"
      ],
      "metadata": {
        "id": "P62uv1DNdoU2"
      }
    },
    {
      "cell_type": "markdown",
      "source": [
        "* Análise do Trade-off:\n",
        "* Precision vs. Recall: Embora a precision para a classe \"não fraude\" seja muito boa, a recall da classe \"fraude\" precisa ser muito melhorada. Ou seja, o modelo é conservador (não identifica muitas fraudes) e perde a chance de bloquear muitas transações fraudulentas.\n",
        "\n",
        "* Custo das fraudes: Falsos negativos (fraudes não identificadas) são mais críticos do que falsos positivos (compra legítima erradamente marcada como fraude). O prejuízo por fraude aprovada é 100% do valor da compra, então, precisamos otimizar os modelos para identificar mais fraudes, mesmo que isso signifique reduzir a precisão."
      ],
      "metadata": {
        "id": "45y3do22ftf_"
      }
    },
    {
      "cell_type": "markdown",
      "source": [
        "# Ajuste do cutoff de decisão: Uma abordagem para melhorar o recall de fraudes seria ajustar o cutoff de probabilidade."
      ],
      "metadata": {
        "id": "ApXFS4s3f400"
      }
    },
    {
      "cell_type": "code",
      "source": [
        "import numpy as np\n",
        "import matplotlib.pyplot as plt\n",
        "\n",
        "# 1) Montar o df_test com tudo que precisamos\n",
        "df_test = X_test.copy()\n",
        "df_test['fraude'] = y_test.values\n",
        "# Traga o valor_compra do df original pelo mesmo índice\n",
        "df_test['valor_compra'] = df.loc[X_test.index, 'valor_compra']\n",
        "# Probabilidade de fraude segundo o modelo balanceado\n",
        "df_test['prob_rf'] = modelo_rf_smote.predict_proba(X_test)[:, 1]\n",
        "\n",
        "# 2) Função de lucro líquido\n",
        "def lucro_liquido(cutoff):\n",
        "    aprovadas = df_test[df_test['prob_rf'] < cutoff]\n",
        "    ganho = aprovadas.loc[aprovadas['fraude'] == 0, 'valor_compra'].sum() * 0.10\n",
        "    perda = aprovadas.loc[aprovadas['fraude'] == 1, 'valor_compra'].sum()\n",
        "    return ganho - perda\n",
        "\n",
        "# 3) Simular lucro para uma grade de cutoffs de 0 a 1\n",
        "thresholds = np.linspace(0, 1, 101)\n",
        "profits = [lucro_liquido(t) for t in thresholds]\n",
        "\n",
        "# 4) Encontrar o melhor cutoff\n",
        "best_i = int(np.argmax(profits))\n",
        "best_cutoff = thresholds[best_i]\n",
        "best_profit = profits[best_i]\n",
        "\n",
        "print(f\"🔎 Melhor cutoff: {best_cutoff:.2f}\")\n",
        "print(f\"💰 Lucro líquido estimado: R$ {best_profit:,.2f}\")\n",
        "\n",
        "# 5) Plotar Lucro vs Cutoff\n",
        "plt.figure(figsize=(8,5))\n",
        "plt.plot(thresholds, profits, marker='o')\n",
        "plt.axvline(best_cutoff, color='red', linestyle='--', label=f\"Cutoff ótimo ({best_cutoff:.2f})\")\n",
        "plt.title('Lucro Líquido vs. Cutoff de Probabilidade de Fraude')\n",
        "plt.xlabel('Cutoff de Probabilidade')\n",
        "plt.ylabel('Lucro Líquido (R$)')\n",
        "plt.legend()\n",
        "plt.grid(True)\n",
        "plt.show()\n"
      ],
      "metadata": {
        "id": "SnqDlieLda5E"
      },
      "execution_count": null,
      "outputs": []
    },
    {
      "cell_type": "markdown",
      "source": [
        "* Regra de decisão: Ao bloquear todas as transações em que a probabilidade de fraude ≥ 0.44, você maximiza o retorno financeiro.\n",
        "* Trade‑off: Esse ponto reflete um equilíbrio em que você aprende a aceitar algumas fraudes (para não perder compras legítimas demais), mas bloqueia fraudes suficientes para gerar o maior lucro líquido."
      ],
      "metadata": {
        "id": "E6QUDjLrgVuL"
      }
    },
    {
      "cell_type": "code",
      "source": [
        "#classificando as transações com base na probabilidade de fraude,\n",
        "y_proba = modelo_rf_smote.predict_proba(X)[:,1]\n",
        "aprovar = (y_proba < 0.44)\n"
      ],
      "metadata": {
        "id": "5TyYPU5_gFri"
      },
      "execution_count": null,
      "outputs": []
    },
    {
      "cell_type": "markdown",
      "source": [
        "# 🧠 Insights Finais\n",
        "\n",
        "- Variáveis mais discriminativas\n",
        "\n",
        "- Entrega de documentos (entrega_doc_1): ausência de documento aumenta fortemente a probabilidade de fraude.\n",
        "\n",
        "- Scores operacionais (score_6, score_9, score_10, score_3): perfis de comportamento (“notas” de confiabilidade) mostram diferenças significativas entre fraudadores e clientes legítimos.\n",
        "\n",
        "- Valor da compra: transações fraudulentas tendem a ter ticket médio muito maior.\n",
        "\n",
        "- Modelagem e performance\n",
        "\n",
        "- Random Forest (SMOTE): melhor equilíbrio geral (AUC‑ROC 0.7475, Recall fraude 35.9%).\n",
        "\n",
        "- XGBoost (SMOTE): ligeiramente maior recall (38.7%) mas AUC‑ROC um pouco menor (0.7379).\n",
        "\n",
        "- Regressão Logística: baixa capacidade de capturar fraudes (recall < 1%).\n",
        "\n",
        "Otimização para o negócio\n",
        "\n",
        "Cutoff ótimo de 0.44 sobre a probabilidade de fraude do Random Forest (SMOTE), que maximiza o lucro líquido em R$ 68.525,43 no conjunto de teste.\n",
        "\n",
        "Isso ajuda a decidir equilibra aprovar compras legítimas (ganho de 10%) e bloquear fraudes (evitar perda de 100%).\n",
        "\n"
      ],
      "metadata": {
        "id": "t0LbBcZbhBYf"
      }
    },
    {
      "cell_type": "markdown",
      "source": [
        "#_________________________________________________________________________________________________________________________________________________________#"
      ],
      "metadata": {
        "id": "dJyAfLW6h2L9"
      }
    },
    {
      "cell_type": "markdown",
      "source": [
        "# 💼 Sugestão ao Negócio\n",
        "\n",
        "* Implementar o modelo em produção\n",
        "\n",
        "Score em tempo real via API: para cada nova transação, calcular prob_fraude = modelo.predict_proba(...)[:,1].\n",
        "\n",
        "Regra de negócio: aprovar se prob_fraude < 0.44; caso contrário, bloquear ou escalonar para análise manual.\n",
        "\n",
        "* Monitoramento contínuo\n",
        "\n",
        "Métricas operacionais: acompanhar diariamente recall de fraude, ratio de aprovações bloqueadas, receita gerada.\n",
        "\n",
        "Data‑drift: monitorar distribuição de features (scores, valor_compra, entrega_doc_) para detectar mudanças no perfil de fraude.\n",
        "\n",
        "* Ciclo de retroalimentação\n",
        "\n",
        "Feedback loop: incorporar rapidamente o resultado real (confirmado como fraude ou não) para re-treinar o modelo periodicamente.\n",
        "\n",
        "- A/B testing de cutoffs: testar limiares ligeiramente diferentes (por exemplo, 0.40, 0.45) em grupos de controle para validar o cutoff ótimo em produção.\n",
        "\n",
        "* Aprimorar features e cobertura\n",
        "\n",
        "- Explorar novas variáveis derivadas dos scores (combinações, médias ponderadas).\n",
        "\n",
        "- Incluir dados comportamentais (tempo de navegação, device fingerprinting) se disponíveis.\n",
        "\n",
        "# Governança e compliance\n",
        "\n",
        "Documentar todo o fluxo de dados e modelo para auditoria.\n",
        "\n",
        "Garantir explicabilidade usando SHAP para justificar bloqueios de transações, atendendo a requisitos regulatórios.\n",
        "\n"
      ],
      "metadata": {
        "id": "tiwOub5EiDbG"
      }
    },
    {
      "cell_type": "markdown",
      "source": [
        "# ✅ Próximos passos recomendados:\n",
        "* Testar estabilidade do cutoff em diferentes splits ou períodos (time split).\n",
        "\n",
        "* Monitorar performance no ambiente real, ajustando se houver drift de dados.\n",
        "\n",
        "* Avaliar impacto de novas features para tentar elevar ainda mais esse lucro."
      ],
      "metadata": {
        "id": "54Mj55uAg2tN"
      }
    },
    {
      "cell_type": "markdown",
      "source": [
        "# 🚀 Deploy\n",
        "\n",
        "- Infraestrutura: containerizar o modelo (Docker) e expô-lo via REST API (FastAPI ou Flask)\n",
        "\n",
        "- Latência: garantir inferência em 200 ms por transação, priorizando predição em batch e em tempo real, se necessário\n",
        "\n",
        "- Escalabilidade: usar orquestradores (Kubernetes) para suportar picos de demanda\n",
        "\n",
        "- Logging e alertas: capturar decisões, probabilidades, contexto da transação e acionar alertas para aumento súbito de fraudes."
      ],
      "metadata": {
        "id": "-fzWVFs1juVb"
      }
    },
    {
      "cell_type": "code",
      "source": [],
      "metadata": {
        "id": "JHa1WCIVkECg"
      },
      "execution_count": null,
      "outputs": []
    }
  ]
}